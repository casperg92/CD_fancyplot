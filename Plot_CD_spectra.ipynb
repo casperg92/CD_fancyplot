{
  "nbformat": 4,
  "nbformat_minor": 0,
  "metadata": {
    "colab": {
      "provenance": [],
      "authorship_tag": "ABX9TyNT9veFJARw3UBsb+q6Sxls",
      "include_colab_link": true
    },
    "kernelspec": {
      "name": "python3",
      "display_name": "Python 3"
    },
    "language_info": {
      "name": "python"
    }
  },
  "cells": [
    {
      "cell_type": "markdown",
      "metadata": {
        "id": "view-in-github",
        "colab_type": "text"
      },
      "source": [
        "<a href=\"https://colab.research.google.com/github/casperg92/CD_fancyplot/blob/main/Plot_CD_spectra.ipynb\" target=\"_parent\"><img src=\"https://colab.research.google.com/assets/colab-badge.svg\" alt=\"Open In Colab\"/></a>"
      ]
    },
    {
      "cell_type": "code",
      "execution_count": 2,
      "metadata": {
        "id": "U0I9RCHcBLki"
      },
      "outputs": [],
      "source": [
        "### load dependencies\n",
        "import os, sys\n",
        "import csv\n",
        "import glob\n",
        "import numpy as np\n",
        "import matplotlib.pyplot as plt\n",
        "import matplotlib.ticker as ticker\n",
        "import pandas as pd\n",
        "import seaborn as sns\n",
        "from scipy.optimize import curve_fit"
      ]
    },
    {
      "cell_type": "code",
      "source": [
        "def plot_CD(csv_file, conversion_factor, min_x, max_x, y_min, y_max, x_min_zoom=None,x_max_zoom=None,y_min_zoom=None,y_max_zoom=None, save_path=None):\n",
        "    # read csv into pandas df\n",
        "    df = pd.read_csv(csv_file, header=0, index_col=0)\n",
        "    df = df.dropna(axis=1, how=\"all\")\n",
        "    df = df[::-1]\n",
        "    \n",
        "    df = df[['20','30','40','50','60','70','80','90']]\n",
        "    df = df.multiply(conversion_factor)\n",
        "    \n",
        "    # plot\n",
        "    sns.set_theme(style=\"ticks\")\n",
        "    fig, ax = plt.subplots()\n",
        "    sns.lineplot(data=df, legend = \"full\", ax = ax, dashes=False, palette=\"coolwarm\")\n",
        "    plt.axhline(y=0, color='k', linestyle='--')\n",
        "    \n",
        "    ax.set(ylabel = \"MRE [deg cm2 dmol-1]\", xlabel = \"Wavelength [nm]\")\n",
        "    ax.set_xlim([min_x,max_x])\n",
        "    selected_rows = df.loc[min_x+5:max_x-5]\n",
        "    \n",
        "    if x_min_zoom != None:\n",
        "        ax2 = plt.axes([0.65, 0.638, .25, .25])\n",
        "        sns.lineplot(data = df, ax = ax2, dashes=False, legend = False, palette=\"coolwarm\")\n",
        "        ax2.set_box_aspect(0.7)\n",
        "        ax2.set_title('Zoom')\n",
        "        ax2.set_xlim([x_min_zoom,x_max_zoom])\n",
        "        ax2.set_ylim ([y_min_zoom, y_max_zoom])\n",
        "        ax2.set (xlabel = None)\n",
        "        ax2.set (ylabel = None)\n",
        "    \n",
        "    ax.set_ylim(y_min, y_max)\n",
        "    \n",
        "    if save_path != None:\n",
        "        plt.savefig(save_path)\n",
        "    plt.show()\n",
        "\n",
        "def plot_melting(csv_file, conversion_factor, wl, y_min, y_max, measure_interval=5, save_path=None):\n",
        "    # read csv into pandas df\n",
        "    df = pd.read_csv(csv_file, header=0, index_col=0)\n",
        "    df = df.dropna(axis=1, how=\"all\")\n",
        "    df = df[::-1]\n",
        "    \n",
        "    df = df.multiply(conversion_factor)\n",
        "    \n",
        "    # plot melting correlationat 212 nm\n",
        "    df2 = df.copy()\n",
        "    row_220 = df.loc[wl].transpose()\n",
        "    x_data = []\n",
        "\n",
        "    for i in range(20, 20+(measure_interval*len(row_220)), measure_interval):\n",
        "        x_data.append(i)\n",
        "    \n",
        "    sns.set_theme(style=\"ticks\")\n",
        "    fig, ax = plt.subplots()\n",
        "    sns.scatterplot(x=x_data,y = row_220, legend = False, s=60, marker=\"s\")\n",
        "    # sns.lineplot(data=row_220)\n",
        "    ax.set(ylabel = f\"MRE [deg cm2 dmol-1] @{wl} nm\", xlabel = \"Temperature [°C]\")\n",
        "    \n",
        "    ax.set_xlim([20,90])\n",
        "    ax.set_ylim([y_min, y_max])\n",
        "    \n",
        "    try:\n",
        "        # Fit curve\n",
        "        def sigmoid(x, Top, Bottom, IC50, HillSlope):\n",
        "            y = Bottom + (Top-Bottom)/(1+(IC50/x)**HillSlope)\n",
        "            return (y)\n",
        "\n",
        "        p0 = [-12000, -10000, 50, 5] # this is an mandatory initial guess\n",
        "\n",
        "        popt, pcov = curve_fit(sigmoid, x_data, row_220, p0)\n",
        "\n",
        "        plt.plot(x_data, sigmoid(x_data, popt[0], popt[1], popt[2], popt[3]))\n",
        "    except:\n",
        "        popt = ['undetermined','undetermined','undetermined','undetermined']\n",
        "        sns.lineplot(x=x_data, y=row_220, palette=['k'])\n",
        "        \n",
        "    if save_path != None:\n",
        "        plt.savefig(save_path)\n",
        "\n",
        "    plt.show()\n",
        "    \n",
        "    print('Top:', popt[0])\n",
        "    print('Bot:', popt[1])\n",
        "    print('IC50:', popt[2])\n",
        "    print('HillSlope:', popt[3])"
      ],
      "metadata": {
        "id": "-BoSsq6PBeZ1"
      },
      "execution_count": 3,
      "outputs": []
    },
    {
      "cell_type": "code",
      "source": [],
      "metadata": {
        "id": "iT7zlQNFBgGM"
      },
      "execution_count": null,
      "outputs": []
    }
  ]
}